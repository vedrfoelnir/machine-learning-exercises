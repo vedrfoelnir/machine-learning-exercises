{
 "cells": [
  {
   "cell_type": "markdown",
   "metadata": {
    "slideshow": {
     "slide_type": "-"
    }
   },
   "source": [
    "# ML-Fundamentals - Lineare Regression - Exercise: Multivariate Linear Regression"
   ]
  },
  {
   "cell_type": "markdown",
   "metadata": {
    "slideshow": {
     "slide_type": "-"
    }
   },
   "source": [
    "## Table of Contents\n",
    "* [Introduction](#Introduction)\n",
    "* [Requirements](#Requirements) \n",
    "  * [Knowledge](#Knowledge) \n",
    "  * [Modules](#Python-Modules)\n",
    "* [Exercises - Multivariate Linear Regression](#Exercises---Multivariate-Linear-Regression)\n",
    "  * [Create Features](#Create-Features)\n",
    "  * [Linear Hypothesis](#Linear-Hypothesis)\n",
    "  * [Generate Target Values](#Generate-Target-Values)\n",
    "  * [Plot The Data](#Plot-The-Data)\n",
    "  * [Cost Function](#Cost-Function)\n",
    "  * [Gradient Descent](#Gradient-Descent)\n",
    "  * [Training and Evaluation](#Training-and-Evaluation)\n",
    "  * [Feature Scaling](#Feature-Scaling)\n",
    "* [Summary and Outlook](#Summary-and-Outlook)\n",
    "* [Literature](#Literature) \n",
    "* [Licenses](#Licenses)"
   ]
  },
  {
   "cell_type": "markdown",
   "metadata": {
    "slideshow": {
     "slide_type": "-"
    }
   },
   "source": [
    "## Introduction\n",
    "\n",
    "In this exercise you will implement the _multivariate linear regression_, a model with two or more predictors and one response variable (opposed to one predictor using univariate linear regression). The whole exercise consists of the following steps:\n",
    "\n",
    "1. Generate values for two predictors/features $(x_1, x_2)$\n",
    "2. Implement a linear function as hypothesis (model) \n",
    "3. Generate values for the response (Y / target values)\n",
    "4. Plot the $((x_1, x_2), y)$ values in a 3D plot.\n",
    "5. Write a function to quantify your model (cost function)\n",
    "6. Implement the gradient descent algorithm to train your model (optimizer) \n",
    "7. Visualize your training process and results\n",
    "8. Apply feature scaling (pen & paper)"
   ]
  },
  {
   "cell_type": "markdown",
   "metadata": {
    "slideshow": {
     "slide_type": "-"
    }
   },
   "source": [
    "## Requirements\n",
    "### Knowledge\n",
    "\n",
    "You should have a basic knowledge of:\n",
    "- Univariate linear regression\n",
    "- Multivariate linear regression\n",
    "- Squared error\n",
    "- Gradient descent\n",
    "- numpy\n",
    "- matplotlib\n",
    "\n",
    "Suitable sources for acquiring this knowledge are:\n",
    "- [Multivariate Linear Regression Notebook](http://christianherta.de/lehre/dataScience/machineLearning/basics/multivariate_linear_regression.php) by Christian Herta and his [lecture slides](http://christianherta.de/lehre/dataScience/machineLearning/multivariateLinearRegression.pdf) (German)\n",
    "- Chapter 2 of the open classroom [Machine Learning](http://openclassroom.stanford.edu/MainFolder/CoursePage.php?course=MachineLearning) by Andrew Ng\n",
    "- Chapter 5.1 of [Deep Learning](http://www.deeplearningbook.org/contents/ml.html) by Ian Goodfellow \n",
    "- Some parts of chapter 1 and 3 of [Pattern Recognition and Machine Learning](https://www.microsoft.com/en-us/research/people/cmbishop/#!prml-book) by Christopher M. Bishop\n",
    "- [numpy quickstart](https://docs.scipy.org/doc/numpy-1.15.1/user/quickstart.html)\n",
    "- [Matplotlib tutorials](https://matplotlib.org/tutorials/index.html)"
   ]
  },
  {
   "cell_type": "markdown",
   "metadata": {
    "slideshow": {
     "slide_type": "-"
    }
   },
   "source": [
    "### Python Modules\n",
    "\n",
    "By [deep.TEACHING](https://www.deep-teaching.org/) convention, all python modules needed to run the notebook are loaded centrally at the beginning. \n"
   ]
  },
  {
   "cell_type": "code",
   "execution_count": 71,
   "metadata": {
    "slideshow": {
     "slide_type": "-"
    }
   },
   "outputs": [],
   "source": [
    "# External Modules\n",
    "import numpy as np\n",
    "import matplotlib.pyplot as plt\n",
    "from mpl_toolkits.mplot3d.axes3d import Axes3D\n",
    "from matplotlib import cm\n",
    "\n",
    "%matplotlib notebook"
   ]
  },
  {
   "cell_type": "markdown",
   "metadata": {
    "slideshow": {
     "slide_type": "-"
    }
   },
   "source": [
    "## Exercise - Multivariate Linear Regression\n",
    "\n",
    "We will only use two features in this notebook, so we are still able to plot them together with the target in a 3D plot. But your implementation should also be capable of handling more (except the plots). "
   ]
  },
  {
   "cell_type": "markdown",
   "metadata": {
    "slideshow": {
     "slide_type": "-"
    }
   },
   "source": [
    "### Create Features\n",
    "\n",
    "First we will create some features. The features should be in a 2D numpy array, the rows separating the different feature vectors (training examples), the columns containing the features. Each feature should be **uniformly** distributed in a specifiable range.\n",
    "\n",
    "**Task:**\n",
    "\n",
    "Implement the function to generate a feature matrix (numpy array)."
   ]
  },
  {
   "cell_type": "code",
   "execution_count": 72,
   "metadata": {
    "slideshow": {
     "slide_type": "-"
    }
   },
   "outputs": [],
   "source": [
    "def create_feature_matrix(sample_size, n_features, x_min, x_max):\n",
    "    '''creates random feature vectors based on a lienar function in a given interval\n",
    "    \n",
    "    Args:\n",
    "        sample_size: number feature vectors\n",
    "        n_features: number of features for each vector\n",
    "        x_min: lower bound value ranges\n",
    "        x_max: upper bound value ranges\n",
    "    \n",
    "    Returns:\n",
    "        x: 2D array containing feature vecotrs with shape (sample_size, n_features)\n",
    "    '''\n",
    "    return np.random.uniform(x_min, x_max, (sample_size, n_features))"
   ]
  },
  {
   "cell_type": "code",
   "execution_count": 73,
   "metadata": {},
   "outputs": [
    {
     "data": {
      "text/plain": [
       "array([[ 7.73052916e+00,  2.51656346e+00],\n",
       "       [ 6.70873737e+00,  3.95016210e+00],\n",
       "       [ 5.17835242e+00,  2.01085921e+00],\n",
       "       [ 1.03040341e+01,  3.05945853e+00],\n",
       "       [ 9.21780158e+00,  3.74778673e+00],\n",
       "       [ 7.71283132e+00,  2.22354003e+00],\n",
       "       [ 9.20150865e+00, -3.05772002e-01],\n",
       "       [ 9.10112680e+00,  4.31760670e+00],\n",
       "       [ 1.55393229e+00,  5.84150047e-01],\n",
       "       [ 9.51243219e+00,  1.11397350e+00],\n",
       "       [ 7.60444945e+00, -2.97064699e-01],\n",
       "       [ 3.15130853e+00,  4.20868269e+00],\n",
       "       [ 6.74866230e+00,  2.46780870e+00],\n",
       "       [ 8.52019142e+00,  1.78488261e+00],\n",
       "       [ 6.32633562e+00,  2.58700941e+00],\n",
       "       [ 9.73610677e+00,  1.32556624e+00],\n",
       "       [ 9.86252630e+00,  4.70039660e+00],\n",
       "       [ 9.68518532e+00,  1.95782538e-02],\n",
       "       [ 2.98916551e+00,  1.59529091e+00],\n",
       "       [ 9.87793432e+00,  4.51221114e+00],\n",
       "       [ 9.10815939e+00,  3.20533151e+00],\n",
       "       [ 5.24222587e+00,  2.68101263e+00],\n",
       "       [ 6.33357836e+00,  3.57572442e-01],\n",
       "       [ 5.30952641e+00,  3.28820126e+00],\n",
       "       [ 5.39638015e+00,  2.00933304e+00],\n",
       "       [ 4.55147570e+00,  7.02856383e-01],\n",
       "       [ 5.59547686e+00,  2.70941542e-03],\n",
       "       [ 8.04250652e+00, -9.56020775e-02],\n",
       "       [ 1.53479905e+00,  1.11309581e+00],\n",
       "       [ 2.27382769e+00,  1.92307306e+00],\n",
       "       [ 6.98387504e+00,  2.47077761e+00],\n",
       "       [ 7.41615327e+00,  3.44671627e+00],\n",
       "       [ 7.24972775e+00,  3.78469295e+00],\n",
       "       [ 4.69864762e+00,  3.58082738e+00],\n",
       "       [ 1.02205120e+01,  2.07640776e+00],\n",
       "       [ 4.27535963e+00, -1.47391445e-01],\n",
       "       [ 6.64935819e+00,  1.86162661e+00],\n",
       "       [ 5.34066339e+00,  3.04438031e+00],\n",
       "       [ 4.63799521e+00,  3.52988206e+00],\n",
       "       [ 1.84675795e+00,  3.92266445e-01],\n",
       "       [ 4.80229182e+00,  7.04705463e-01],\n",
       "       [ 1.03062379e+01,  3.03702750e+00],\n",
       "       [ 8.32973728e+00,  1.26033464e+00],\n",
       "       [ 5.54828005e+00,  8.32098656e-01],\n",
       "       [ 2.59860232e+00,  4.00234045e+00],\n",
       "       [ 9.72185771e+00,  3.49306599e+00],\n",
       "       [ 9.75129553e+00, -6.98691872e-02],\n",
       "       [ 1.83910733e+00, -1.24642678e-01],\n",
       "       [ 6.48466282e+00,  1.73484231e+00],\n",
       "       [ 5.01233698e+00,  2.92603965e+00],\n",
       "       [ 7.53006631e+00,  6.21270476e-01],\n",
       "       [ 5.49455541e+00,  1.90351885e+00],\n",
       "       [ 9.75049303e+00,  3.07891278e+00],\n",
       "       [ 8.96992571e+00,  4.16506546e+00],\n",
       "       [ 4.33134909e+00,  2.65230667e+00],\n",
       "       [ 7.93818166e+00,  4.24257424e+00],\n",
       "       [ 5.90955252e+00,  4.26389771e+00],\n",
       "       [ 1.09843148e+01,  4.66183891e+00],\n",
       "       [ 1.03522818e+01,  3.35576861e+00],\n",
       "       [ 4.63295731e+00,  1.53691477e+00],\n",
       "       [ 7.13326054e+00,  4.14737183e-01],\n",
       "       [ 2.70413942e+00,  4.81247846e+00],\n",
       "       [ 8.04181107e+00,  6.65434951e-01],\n",
       "       [ 9.38581025e+00,  1.81070114e+00],\n",
       "       [ 7.58670180e+00,  3.13623359e+00],\n",
       "       [ 8.51234134e+00,  1.02225181e+00],\n",
       "       [ 4.94059999e+00,  1.25227699e+00],\n",
       "       [ 1.77973137e+00,  2.66877073e+00],\n",
       "       [ 9.23341283e+00,  3.04440793e+00],\n",
       "       [ 4.88476743e+00,  4.02542205e+00],\n",
       "       [ 2.36204028e+00,  2.78826131e-01],\n",
       "       [ 9.93521213e+00,  2.78025922e+00],\n",
       "       [ 7.41340964e+00,  2.11545260e+00],\n",
       "       [ 1.03191671e+01,  1.13583673e+00],\n",
       "       [ 2.03507792e+00,  4.74359300e+00],\n",
       "       [ 5.95808463e+00,  4.30244120e-02],\n",
       "       [ 3.21599753e+00,  1.54839939e+00],\n",
       "       [ 4.05672685e+00,  4.15100792e+00],\n",
       "       [ 8.91473723e+00, -3.12380345e-01],\n",
       "       [ 9.53501648e+00,  4.52511303e-01],\n",
       "       [ 9.01893788e+00,  4.14969124e+00],\n",
       "       [ 3.37325205e+00, -4.72298471e-01],\n",
       "       [ 4.59912527e+00,  4.90807205e+00],\n",
       "       [ 6.63717925e+00,  1.72055610e+00],\n",
       "       [ 9.70532125e+00,  1.31837090e+00],\n",
       "       [ 9.52795694e+00,  6.30512826e-01],\n",
       "       [ 4.14391882e+00,  1.75853528e+00],\n",
       "       [ 2.82553050e+00,  3.46360620e+00],\n",
       "       [ 8.83833899e+00,  3.08904127e+00],\n",
       "       [ 4.87117048e+00,  1.99646881e-01],\n",
       "       [ 6.42216143e+00,  1.01616719e+00],\n",
       "       [ 4.67836150e+00,  2.18970921e+00],\n",
       "       [ 3.30517245e+00,  3.13060430e+00],\n",
       "       [ 4.04648159e+00,  5.65825982e-01],\n",
       "       [ 8.25669517e+00,  2.70116712e+00],\n",
       "       [ 3.17619318e+00,  2.20185635e+00],\n",
       "       [ 1.04105689e+01,  1.43317830e-01],\n",
       "       [ 9.18015189e+00,  1.10504472e+00],\n",
       "       [ 5.86185797e+00,  4.20227266e+00],\n",
       "       [ 9.72044452e+00,  4.33339316e+00]])"
      ]
     },
     "execution_count": 73,
     "metadata": {},
     "output_type": "execute_result"
    }
   ],
   "source": [
    "sample_size = 100\n",
    "n_features = 2\n",
    "x_min = [1.5, -0.5]\n",
    "x_max = [11., 5.0]\n",
    "\n",
    "X = create_feature_matrix(sample_size, n_features, x_min, x_max)\n",
    "X"
   ]
  },
  {
   "cell_type": "code",
   "execution_count": 74,
   "metadata": {},
   "outputs": [],
   "source": [
    "assert len(X[:,0]) == sample_size\n",
    "assert len(X[0,:]) == n_features\n",
    "for i in range(n_features):\n",
    "    assert np.max(X[:,i]) <= x_max[i]\n",
    "    assert np.min(X[:,i]) >= x_min[i]"
   ]
  },
  {
   "cell_type": "markdown",
   "metadata": {
    "slideshow": {
     "slide_type": "-"
    }
   },
   "source": [
    "### Linear Hypothesis\n",
    "\n",
    "\n",
    "A short recap, a hypothesis $h_\\theta({\\bf x})$ is a certain function that we believe is similar to a target function that we like to model. A hypothesis $h_\\theta({\\bf x})$ is a function of ${\\bf x}$ with fixed parameters $\\Theta$. \n",
    "\n",
    "Here we have $n$ features ${\\bf x} = \\{x_1, \\ldots, x_n \\}$ and $n+1$ parameters $\\Theta = \\{\\theta_0, \\theta_1 \\ldots, \\theta_n \\}$:\n",
    "\n",
    "$$\n",
    "h_\\theta({\\bf x}) = \\theta_{0} + \\theta_{1} x_1 + \\ldots \\theta_n x_n \n",
    "$$\n",
    "\n",
    "adding an extra element to $\\vec x$ for convenience, this could also be rewritten as:\n",
    "\n",
    "$$\n",
    "h_\\theta({\\bf x}) = \\theta_{0} x_0 + \\theta_{1} x_1 + \\ldots \\theta_n x_n \n",
    "$$\n",
    "\n",
    "with $x_0 = 1$ for all feature vectors (training examples)."
   ]
  },
  {
   "cell_type": "markdown",
   "metadata": {},
   "source": [
    "Or treating ${\\bf x}$ and $\\Theta$ as vectors:\n",
    "\n",
    "$$\n",
    "h(\\vec x) = \\vec x'^T \\vec \\theta\n",
    "$$\n",
    "\n",
    "with:\n",
    "\n",
    "$$\n",
    "\\vec x = \\begin{pmatrix} \n",
    "x_1 & x_2 & \\ldots & x_n \\\\\n",
    "\\end{pmatrix}^T\n",
    "\\text{   and   }\n",
    "\\vec x' = \\begin{pmatrix} \n",
    "1 & x_1 & x_2 & \\ldots & x_n \\\\\n",
    "\\end{pmatrix}^T\n",
    "$$\n",
    "\n",
    "and\n",
    "\n",
    "$$\n",
    "\\vec \\theta = \\begin{pmatrix} \n",
    "\\theta_0 & \\theta_1 & \\ldots & \\theta_n \\\\\n",
    "\\end{pmatrix}^T\n",
    "$$\n",
    "\n",
    "Or for the whole data set at once: The rows in $X$ separate the different feature vectors, the columns contain the features. \n",
    "\n",
    "$$\n",
    "\\vec h_\\Theta(X) = X' \\cdot \\vec \\theta\n",
    "$$\n",
    "\n",
    "the vector $\\vec h(X) = \\left( h(\\vec x^{(1)}),h(\\vec x^{(2)}), \\dots, h(\\vec x^{(m)}) )\\right)^T$ contains all predictions for the data batch $X$.\n",
    "\n",
    "with:\n",
    "\n",
    "$$\n",
    "\\begin{align}\n",
    "X &= \\begin{pmatrix} \n",
    "x_1^{(1)} & \\ldots & x_n^{(1)} \\\\\n",
    "x_1^{(2)} & \\ldots & x_n^{(2)} \\\\\n",
    "\\vdots &\\vdots &\\vdots \\\\\n",
    "x_1^{(m)} & \\ldots & x_n^{(m)} \\\\\n",
    "\\end{pmatrix}\n",
    "&=\n",
    "\\begin{pmatrix} \n",
    "\\vec x^{(1)T} \\\\\n",
    "\\vec x^{(2)T}  \\\\\n",
    "\\vdots  \\\\\n",
    "\\vec x^{(m)T}  \\\\\n",
    "\\end{pmatrix}\n",
    "\\end{align}\n",
    "$$\n",
    "respectively\n",
    "$$\n",
    "\\begin{align}\n",
    "X' = \\begin{pmatrix} \n",
    "1 & x_1^{(1)} & \\ldots & x_n^{(1)} \\\\\n",
    "1 & x_1^{(2)} & \\ldots & x_n^{(2)} \\\\\n",
    "\\vdots &\\vdots &\\vdots &\\vdots \\\\\n",
    "1 & x_1^{(m)} & \\ldots & x_n^{(m)} \\\\\n",
    "\\end{pmatrix}\n",
    "&=\n",
    "\\begin{pmatrix} \n",
    "\\vec x'^{(1)T} \\\\\n",
    "\\vec x'^{(2)T}  \\\\\n",
    "\\vdots  \\\\\n",
    "\\vec x'^{(m)T}  \\\\\n",
    "\\end{pmatrix}\n",
    "\\end{align}\n",
    "$$"
   ]
  },
  {
   "cell_type": "markdown",
   "metadata": {},
   "source": [
    "**Task:**\n",
    "\n",
    "Implement hypothesis $\\vec h_\\Theta(X)$ in the method `linear_hypothesis` and return it as a function. Implement it the computationally efficient (**pythonic**) way by not using any loops and handling all data at once (use $X$ respectively $X'$).\n",
    "\n",
    "**Hint:**\n",
    "\n",
    "Of course you are free to implement as many helper functions as you like, e.g. for transforming $X$ to $X'$, though you do not have to. Up to you."
   ]
  },
  {
   "cell_type": "code",
   "execution_count": 75,
   "metadata": {
    "slideshow": {
     "slide_type": "-"
    }
   },
   "outputs": [],
   "source": [
    "def linear_hypothesis(thetas):\n",
    "    ''' Combines given list argument in a linear equation and returns it as a function\n",
    "    \n",
    "    Args:\n",
    "        thetas: list of coefficients\n",
    "        \n",
    "    Returns:\n",
    "        lambda that models a linear function based on thetas and x\n",
    "    '''\n",
    "    return lambda X: np.dot(np.column_stack((np.ones((sample_size,1)), X)), thetas)"
   ]
  },
  {
   "cell_type": "code",
   "execution_count": 76,
   "metadata": {},
   "outputs": [],
   "source": [
    "assert len(linear_hypothesis([.1,.2,.3])(X)) == sample_size"
   ]
  },
  {
   "cell_type": "markdown",
   "metadata": {},
   "source": [
    "### Generate Target Values\n",
    "\n",
    "**Task:**\n",
    "\n",
    "Use your implemented `linear_hypothesis` inside the next function to generate some target values $Y$. Additionally add some Gaussian noise."
   ]
  },
  {
   "cell_type": "code",
   "execution_count": 77,
   "metadata": {
    "slideshow": {
     "slide_type": "-"
    }
   },
   "outputs": [],
   "source": [
    "def generate_targets(X, theta, sigma):\n",
    "    ''' Combines given arguments in a linear equation with X, \n",
    "    adds some Gaussian noise and returns the result\n",
    "    \n",
    "    Args:\n",
    "        X: 2D numpy feature matrix\n",
    "        theta: list of coefficients\n",
    "        sigma: standard deviation of the gaussian noise\n",
    "        \n",
    "    Returns:\n",
    "        target values for X\n",
    "    '''\n",
    "    return linear_hypothesis(theta)(X) + np.random.normal(0,sigma,(sample_size))"
   ]
  },
  {
   "cell_type": "code",
   "execution_count": 78,
   "metadata": {},
   "outputs": [],
   "source": [
    "theta = (2., 3., -4.)\n",
    "sigma = 3.\n",
    "y = generate_targets(X, theta, sigma)"
   ]
  },
  {
   "cell_type": "code",
   "execution_count": 79,
   "metadata": {},
   "outputs": [],
   "source": [
    "assert len(y) == sample_size"
   ]
  },
  {
   "cell_type": "markdown",
   "metadata": {},
   "source": [
    "### Plot The Data\n",
    "\n",
    "**Task:**\n",
    "\n",
    "Plot the data $\\mathcal D = \\{((x^{(1)}_1,x^{(1)}_2)^T,y^{(1)}), \\ldots, ((x^{(n)}_1,x^{(n)}_2)^T,y^{(n)})\\}$ in a 3D scatter plot. The plot should look like the following:\n",
    "\n",
    "<img src=\"https://gitlab.com/deep.TEACHING/educational-materials/raw/dev/media/klaus/exercise-multivariate-linear-regression-scatter.png\" width=\"512\" alt=\"internet connection needed\">\n",
    "\n",
    "**Sidenote:**\n",
    "\n",
    "The command `%matplotlib notebook` (instead of `%matplotlib inline`) creates an interactive (e.g. rotatable) plot."
   ]
  },
  {
   "cell_type": "code",
   "execution_count": 80,
   "metadata": {
    "slideshow": {
     "slide_type": "-"
    }
   },
   "outputs": [],
   "source": [
    "%matplotlib notebook\n",
    "\n",
    "def plot_data_scatter(features, targets):\n",
    "    \"\"\" Plots the features and the targets in a 3D scatter plot\n",
    "    \n",
    "    Args:\n",
    "        features: 2D numpy-array features\n",
    "        targets: ltargets\n",
    "    \"\"\"\n",
    "    T0 = features[:, 0:1]\n",
    "    T1 = features[:, 1:2]\n",
    "\n",
    "    fig = plt.figure()\n",
    "    ax = fig.add_subplot(111, projection='3d')\n",
    "    ax.scatter(T0, T1, targets, c='r',marker ='o')\n",
    "    \n",
    "    ax.set_xlabel('x1')\n",
    "    ax.set_ylabel('x2')"
   ]
  },
  {
   "cell_type": "code",
   "execution_count": 81,
   "metadata": {
    "scrolled": true
   },
   "outputs": [
    {
     "data": {
      "image/png": "[encoded data removed]",
      "text/plain": [
       "<Figure size 432x288 with 1 Axes>"
      ]
     },
     "metadata": {
      "needs_background": "light"
     },
     "output_type": "display_data"
    }
   ],
   "source": [
    "%matplotlib inline\n",
    "plot_data_scatter(X, y)"
   ]
  },
  {
   "cell_type": "markdown",
   "metadata": {
    "slideshow": {
     "slide_type": "slide"
    }
   },
   "source": [
    "### Cost Function\n",
    "A cost function $J$ depends on the given training data $D$ and hypothesis $h_\\theta(\\vec x)$. In the context of the linear regression, the cost function measures how \"wrong\" a model is regarding its ability to estimate the relationship between $\\vec x$ and $y$ for specific $\\Theta$ values. Later we will treat this as an optimization problem and try to minimize the cost function $J_{\\mathcal D}(\\Theta)$ to find optimal $\\theta$ values for our hypothesis $h_\\theta(\\vec x)$. The cost function we use in this exercise is the [Mean-Squared-Error](https://en.wikipedia.org/wiki/Mean_squared_error) cost function:\n",
    "\n",
    "\\begin{equation}\n",
    "    J_{\\mathcal D}(\\Theta)=\\frac{1}{2m}\\sum_{i=1}^{m}{(h_\\Theta(\\vec x^{(i)})-y^{(i)})^2}\n",
    "\\end{equation}\n",
    "\n",
    "Implement the cost function $J_D(\\Theta)$ in the method `mse_cost_function`. The method should return a function that takes the values of $\\Theta$ as an argument.\n",
    "\n",
    "As a sidenote, the terms \"loss function\" or \"error function\" are often used interchangeably in the field of Machine Learning."
   ]
  },
  {
   "cell_type": "code",
   "execution_count": 82,
   "metadata": {
    "slideshow": {
     "slide_type": "-"
    }
   },
   "outputs": [],
   "source": [
    "def mse_cost_function(x, y):\n",
    "    ''' Implements MSE cost function as a function J(theta) on given traning data \n",
    "    \n",
    "    Args:\n",
    "        x: vector of x values \n",
    "        y: vector of ground truth values y \n",
    "        \n",
    "    Returns:\n",
    "        lambda J(theta) that models the cost function\n",
    "    '''\n",
    "    assert(len(x) == len(y))\n",
    "    m = len(x)\n",
    "    return lambda theta:  1./(2. * float(m)) * np.sum((linear_hypothesis(theta)(x)-y)**2)"
   ]
  },
  {
   "cell_type": "markdown",
   "metadata": {},
   "source": [
    "Review the cell in which you generate the target values and note the theta values, which were used for it (If you haven't edited the default values, it should be `[2, 3, -4]`)\n",
    "\n",
    "**Optional:**\n",
    "\n",
    "Try a few different values for theta to pass to the cost function - Which thetas result in a low error and which produce a great error?"
   ]
  },
  {
   "cell_type": "code",
   "execution_count": 83,
   "metadata": {},
   "outputs": [
    {
     "name": "stdout",
     "output_type": "stream",
     "text": [
      "4.027009859684882\n"
     ]
    }
   ],
   "source": [
    "J = mse_cost_function(X, y)\n",
    "print(J(theta))"
   ]
  },
  {
   "cell_type": "markdown",
   "metadata": {
    "slideshow": {
     "slide_type": "slide"
    }
   },
   "source": [
    "###  Gradient Descent\n",
    "\n",
    "A short recap, the gradient descent algorithm is a first-order iterative optimization for finding a minimum of a function. From the current position in a (cost) function, the algorithm steps proportional to the negative of the gradient and repeats this until it reaches a local or global minimum and determines. Stepping proportional means that it does not go entirely in the direction of the negative gradient, but scaled by a fixed value $\\alpha$ also called the learning rate. Implementing the following formalized update rule is the core of the optimization process:\n",
    "\n",
    "\\begin{equation}\n",
    "    \\theta_{j}^{new} \\leftarrow \\theta_{j}^{old} - \\alpha * \\frac{\\partial}{\\partial\\theta_{j}} J(\\vec \\theta^{old})\n",
    "\\end{equation}\n",
    "\n",
    "**Task:**\n",
    "\n",
    "Implement the function to update all theta values."
   ]
  },
  {
   "cell_type": "code",
   "execution_count": 84,
   "metadata": {
    "slideshow": {
     "slide_type": "-"
    }
   },
   "outputs": [],
   "source": [
    "def update_theta(x, y, theta, learning_rate):\n",
    "    ''' Updates learnable parameters theta \n",
    "    \n",
    "    The update is done by calculating the partial derivities of \n",
    "    the cost function including the linear hypothesis. The \n",
    "    gradients scaled by a scalar are subtracted from the given \n",
    "    theta values.\n",
    "    \n",
    "    Args:\n",
    "        x: 2D numpy array of x values\n",
    "        y: array of y values corresponding to x\n",
    "        theta: current theta values\n",
    "        learning_rate: value to scale the negative gradient \n",
    "        \n",
    "    Returns:\n",
    "        theta: Updated theta vector\n",
    "    '''\n",
    "    m = len(x)\n",
    "    xalt = np.column_stack((np.ones((sample_size,1)), x))\n",
    "    #return theta - learning_rate * (1/np.float64(m) * np.sum(np.dot((np.dot(xalt, theta)-y), xalt)))\n",
    "    return theta - learning_rate * (1.0  / float(m)) * xalt.T.dot(linear_hypothesis(theta)(x)-y)"
   ]
  },
  {
   "cell_type": "markdown",
   "metadata": {
    "slideshow": {
     "slide_type": "-"
    }
   },
   "source": [
    "Using the `update_theta` method, you can now implement the gradient descent algorithm. Iterate over the update rule to find the values for $\\vec \\theta$ that minimize our cost function $J_D(\\vec \\theta)$. This process is often called training of a machine learning model. \n",
    "\n",
    "**Task:**\n",
    "- Implement the function for the gradient descent.\n",
    "- Create a history of all theta and cost values and return them."
   ]
  },
  {
   "cell_type": "code",
   "execution_count": 85,
   "metadata": {
    "slideshow": {
     "slide_type": "-"
    }
   },
   "outputs": [],
   "source": [
    "def gradient_descent(learning_rate, theta, iterations, x, y, cost_function):\n",
    "    ''' Minimize theta values of a linear model based on MSE cost function\n",
    "    \n",
    "    Args:\n",
    "        learning_rate: scalar, scales the negative gradient \n",
    "        theta: initial theta values\n",
    "        x: vector, x values from the data set\n",
    "        y: vector, y values from the data set\n",
    "        iterations: scalar, number of theta updates\n",
    "        cost_function: python function for computing the cost\n",
    "        \n",
    "    Returns:\n",
    "        history_cost: cost after each iteration\n",
    "        history_theta: Updated theta values after each iteration\n",
    "    '''\n",
    "    history_cost = np.zeros(iterations)\n",
    "    history_theta = np.zeros((iterations, len(theta)))\n",
    "\n",
    "    cost = cost_function(x,y)\n",
    "\n",
    "    history_theta[0] = theta\n",
    "    history_cost[0] = cost(theta)\n",
    "\n",
    "    for i in range(iterations):\n",
    "        theta  = update_theta(x, y, theta, learning_rate)\n",
    "        history_theta[i] = theta\n",
    "        history_cost[i] = cost(theta)\n",
    "    return history_cost, history_theta"
   ]
  },
  {
   "cell_type": "markdown",
   "metadata": {},
   "source": [
    "### Training and Evaluation\n",
    "\n",
    "**Task:**\n",
    "\n",
    "Choose an appropriate learning rate, number of iterations and initial theta values and start the training"
   ]
  },
  {
   "cell_type": "code",
   "execution_count": 86,
   "metadata": {},
   "outputs": [],
   "source": [
    "# Your implementation:\n",
    "\n",
    "alpha = 0.001 # assign an appropriate value\n",
    "nb_iterations = 1000 # assign an appropriate value\n",
    "start_values_theta = [2, 2.,2.] # assign appropriate values\n",
    "history_cost, history_theta = gradient_descent(alpha, start_values_theta, nb_iterations, X, y,  mse_cost_function)"
   ]
  },
  {
   "cell_type": "markdown",
   "metadata": {},
   "source": [
    "Now that the training has finished we can visualize our results.\n",
    "\n",
    "**Task:**\n",
    "\n",
    "Plot the costs over the iterations. If you have used `fig = plt.figure()` and `ax = fig.add_subplot(111)` in the last plot, use it again here, else the plot will be added to the last plot instead of a new one.\n",
    "\n",
    "Your plot should look similar to this one:\n",
    "\n",
    "<img src=\"https://gitlab.com/deep.TEACHING/educational-materials/raw/dev/media/klaus/exercise-multivariate-linear-regression-costs.png\" width=\"512\" alt=\"internet connection needed\">"
   ]
  },
  {
   "cell_type": "code",
   "execution_count": 87,
   "metadata": {
    "slideshow": {
     "slide_type": "-"
    }
   },
   "outputs": [],
   "source": [
    "def plot_progress(costs):\n",
    "    \"\"\" Plots the costs over the iterations\n",
    "    \n",
    "    Args:\n",
    "        costs: history of costs\n",
    "    \"\"\"\n",
    "    plt.plot(np.linspace(0, len(costs), len(costs)), costs)\n",
    "    plt.xlabel('Iterationen')\n",
    "    plt.ylabel('Kosten')\n",
    "    plt.title('Fortschritt')"
   ]
  },
  {
   "cell_type": "code",
   "execution_count": 92,
   "metadata": {},
   "outputs": [
    {
     "name": "stdout",
     "output_type": "stream",
     "text": [
      "costs before the training:\t  65.88390299144864\n",
      "costs after the training:\t  4.279101727546876\n"
     ]
    },
    {
     "data": {
      "image/png": "[encoded data removed]",
      "text/plain": [
       "<Figure size 432x288 with 1 Axes>"
      ]
     },
     "metadata": {
      "needs_background": "light"
     },
     "output_type": "display_data"
    }
   ],
   "source": [
    "%matplotlib inline\n",
    "plot_progress(history_cost)\n",
    "print(\"costs before the training:\\t \", history_cost[0])\n",
    "print(\"costs after the training:\\t \", history_cost[-1])"
   ]
  },
  {
   "cell_type": "markdown",
   "metadata": {},
   "source": [
    "**Task:**\n",
    "\n",
    "Finally plot the decision hyperplane (just a plain plane here though) together with the data in a 3D plot.\n",
    "\n",
    "Your plot should look similar to this one:\n",
    "\n",
    "<img src=\"https://gitlab.com/deep.TEACHING/educational-materials/raw/dev/media/klaus/exercise-multivariate-linear-regression-scatter_and_boundary.png\" width=\"512\" alt=\"internet connection needed\">"
   ]
  },
  {
   "cell_type": "code",
   "execution_count": 89,
   "metadata": {
    "slideshow": {
     "slide_type": "-"
    }
   },
   "outputs": [],
   "source": [
    "def evaluation_plt(x, y, final_theta):\n",
    "    ''' Plots the data x, y together with the final model\n",
    "    \n",
    "    Args:\n",
    "        cost_hist: vector, history of all cost values from a opitmization\n",
    "        theta_0: scalar, model parameter for boundary\n",
    "        theta_1: scalar, model parameter for boundary\n",
    "        x: vector, x values from the data set\n",
    "        y: vector, y values from the data set\n",
    "    '''\n",
    "    T0 = x[:, 0]\n",
    "    T1 = x[:, 1]\n",
    "\n",
    "    plt3d = plt.figure().gca(projection='3d')\n",
    "    plt3d.plot_trisurf(T0, T1, linear_hypothesis(final_theta)(x), cmap='viridis', linewidth=0) # I mean .. it looks similar but I'm sure as hell that that isn't supposed to look like this\n",
    "    ax = plt.gca()\n",
    "    ax.scatter(T0, T1, y, c='r',marker ='o')\n",
    "\n",
    "    ax.set_xlabel('x1')\n",
    "    ax.set_ylabel('x2')"
   ]
  },
  {
   "cell_type": "code",
   "execution_count": 90,
   "metadata": {},
   "outputs": [
    {
     "name": "stdout",
     "output_type": "stream",
     "text": [
      "thetas before the training:\t [1.99385094 1.96533767 1.97301162]\n",
      "thetas after the training:\t [ 1.61221072  2.9618166  -3.60736817]\n"
     ]
    },
    {
     "name": "stderr",
     "output_type": "stream",
     "text": [
      "C:\\Users\\TOMMAG~1\\AppData\\Local\\Temp/ipykernel_22404/3588105193.py:14: MatplotlibDeprecationWarning: Calling gca() with keyword arguments was deprecated in Matplotlib 3.4. Starting two minor releases later, gca() will take no keyword arguments. The gca() function should only be used to get the current axes, or if no axes exist, create new axes with default keyword arguments. To create a new axes with non-default arguments, use plt.axes() or plt.subplot().\n",
      "  plt3d = plt.figure().gca(projection='3d')\n"
     ]
    },
    {
     "data": {
      "image/png": "[encoded data removed]",
      "text/plain": [
       "<Figure size 432x288 with 1 Axes>"
      ]
     },
     "metadata": {
      "needs_background": "light"
     },
     "output_type": "display_data"
    }
   ],
   "source": [
    "%matplotlib inline\n",
    "evaluation_plt(X, y, history_theta[-1])\n",
    "print(\"thetas before the training:\\t\", history_theta[0])\n",
    "print(\"thetas after the training:\\t\", history_theta[-1])"
   ]
  },
  {
   "cell_type": "markdown",
   "metadata": {},
   "source": [
    "### Feature Scaling\n",
    "\n",
    "Now suppose the following features $X$:"
   ]
  },
  {
   "cell_type": "code",
   "execution_count": 91,
   "metadata": {},
   "outputs": [
    {
     "name": "stdout",
     "output_type": "stream",
     "text": [
      "[[1.0e-04 2.0e+03]\n",
      " [2.0e-04 1.8e+03]\n",
      " [3.0e-04 1.6e+03]]\n"
     ]
    }
   ],
   "source": [
    "X = np.array([[0.0001, 2000],\n",
    "       [0.0002, 1800],\n",
    "       [0.0003, 1600]], dtype=np.float32)\n",
    "\n",
    "sample_size = len(X[:,0])\n",
    "print(X)"
   ]
  },
  {
   "cell_type": "markdown",
   "metadata": {},
   "source": [
    "**Task:**\n",
    "\n",
    "This task can be done via **pen & paper** or by inserting some code below. Either way, you should be able to solve both tasks below on paper only using a calculator.\n",
    "\n",
    "1. Apply feature scaling onto `X` using the *mean* and the *standard deviation*. What values do the scaled features have?\n",
    "    * *Optional:*\n",
    "\n",
    "        You can even execute the cell above and start running your notebook again from top (all **except** executing the cell to generate your features, which would overwrite these new features).\n",
    "\n",
    "        When you start training you should notice that your costs do not decrease, maybe even increase, if you have not adjusted your learning rate (training might also throw an overflow warning)."
   ]
  },
  {
   "cell_type": "code",
   "execution_count": 94,
   "metadata": {},
   "outputs": [
    {
     "data": {
      "text/plain": [
       "array([[-0.99187   ,  1.2122852 ],\n",
       "       [-0.99186987,  0.9918697 ],\n",
       "       [-0.99186975,  0.77145416]], dtype=float32)"
      ]
     },
     "execution_count": 94,
     "metadata": {},
     "output_type": "execute_result"
    }
   ],
   "source": [
    "Xalt = (X-np.mean(X))/np.std(X)\n",
    "Xalt"
   ]
  },
  {
   "cell_type": "markdown",
   "metadata": {},
   "source": [
    "**Task:**\n",
    "\n",
    "2. After the training with scaled features your new $\\\\vec \\theta'$ values will something like: $\\vec \\theta'=\\left(-7197,  326, -326\\right)^T$ (you can try training with but you do not have to). \n",
    "\n",
    "    Suppose $\\vec \\theta'=\\left(-7197,  326, -326\\right)^T$. What are the corresponding $\\theta_j$ values for the unscaled data?\n",
    "\n",
    "    * (If you did train your model with the scaled features, the resulting $\\theta_j$ should really be $\\vec \\theta'=\\left(-7197,  326, -326\\right)^T$"
   ]
  },
  {
   "cell_type": "code",
   "execution_count": 93,
   "metadata": {},
   "outputs": [
    {
     "name": "stdout",
     "output_type": "stream",
     "text": [
      "-4402.132214932182 3992668.1240509134 -1.996334137670174\n"
     ]
    }
   ],
   "source": [
    "T = (-7197,  326, -326)\n",
    "t0 = T[0]-T[1]*np.mean(X[:,0])/np.std(X[:,0])-T[2]*np.mean(X[:,1])/np.std(X[:,1])\n",
    "t1 = T[1]/np.std(X[:,0])\n",
    "t2 = T[2]/np.std(X[:,1])\n",
    "print(t0, t1, t2)"
   ]
  },
  {
   "cell_type": "markdown",
   "metadata": {
    "slideshow": {
     "slide_type": "slide"
    }
   },
   "source": [
    "## Summary and Outlook\n",
    "\n",
    "During this exercise, the linear regression was extended to multidimensional feature space and feature scaling was practiced. You should be able to answer the following questions:\n",
    "- How does the implementation of the multivariate regression differ from the univariate one?\n",
    "- Why do we apply feature scaling?\n",
    "- Why does feature scaling help?"
   ]
  },
  {
   "cell_type": "markdown",
   "metadata": {
    "slideshow": {
     "slide_type": "-"
    }
   },
   "source": [
    "## Licenses\n",
    "\n",
    "### Notebook License (CC-BY-SA 4.0)\n",
    "\n",
    "*The following license applies to the complete notebook, including code cells. It does however not apply to any referenced external media (e.g., images).*\n",
    "\n",
    "Exercise: Multivariate Linear Regression <br/>\n",
    "by Christian Herta, Klaus Strohmenger<br/>\n",
    "is licensed under a [Creative Commons Attribution-ShareAlike 4.0 International License](http://creativecommons.org/licenses/by-sa/4.0/).<br/>\n",
    "Based on a work at https://gitlab.com/deep.TEACHING.\n",
    "\n",
    "\n",
    "### Code License (MIT)\n",
    "\n",
    "*The following license only applies to code cells of the notebook.*\n",
    "\n",
    "Copyright 2018 Christian Herta, Klaus Strohmenger\n",
    "\n",
    "Permission is hereby granted, free of charge, to any person obtaining a copy of this software and associated documentation files (the \"Software\"), to deal in the Software without restriction, including without limitation the rights to use, copy, modify, merge, publish, distribute, sublicense, and/or sell copies of the Software, and to permit persons to whom the Software is furnished to do so, subject to the following conditions:\n",
    "\n",
    "The above copyright notice and this permission notice shall be included in all copies or substantial portions of the Software.\n",
    "\n",
    "THE SOFTWARE IS PROVIDED \"AS IS\", WITHOUT WARRANTY OF ANY KIND, EXPRESS OR IMPLIED, INCLUDING BUT NOT LIMITED TO THE WARRANTIES OF MERCHANTABILITY, FITNESS FOR A PARTICULAR PURPOSE AND NONINFRINGEMENT. IN NO EVENT SHALL THE AUTHORS OR COPYRIGHT HOLDERS BE LIABLE FOR ANY CLAIM, DAMAGES OR OTHER LIABILITY, WHETHER IN AN ACTION OF CONTRACT, TORT OR OTHERWISE, ARISING FROM, OUT OF OR IN CONNECTION WITH THE SOFTWARE OR THE USE OR OTHER DEALINGS IN THE SOFTWARE."
   ]
  },
  {
   "cell_type": "markdown",
   "metadata": {},
   "source": []
  },
  {
   "cell_type": "markdown",
   "metadata": {},
   "source": []
  }
 ],
 "metadata": {
  "celltoolbar": "Slideshow",
  "kernelspec": {
   "display_name": "Python 3",
   "language": "python",
   "name": "python3"
  },
  "language_info": {
   "codemirror_mode": {
    "name": "ipython",
    "version": 3
   },
   "file_extension": ".py",
   "mimetype": "text/x-python",
   "name": "python",
   "nbconvert_exporter": "python",
   "pygments_lexer": "ipython3",
   "version": "3.10.0"
  }
 },
 "nbformat": 4,
 "nbformat_minor": 2
}
